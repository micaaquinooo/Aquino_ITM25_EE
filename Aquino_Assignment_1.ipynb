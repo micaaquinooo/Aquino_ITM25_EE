{
 "cells": [
  {
   "cell_type": "markdown",
   "metadata": {},
   "source": [
    "# ITMGT 25.03 EE\n",
    "### Assignment 1\n",
    "\n",
    "These exercises are designed to strengthen your grasp on basic programming concepts. Read what is required of you carefully.\n",
    "\n",
    "This assignment is only over 10 points, but there are 15 points available to earn from answering the questions. It will be credited to Class Participation, which will be over 200 for the entire semester.\n",
    "\n",
    "Rename the file to:\n",
    "\n",
    "Lastname_Assignment_1.ipynb\n",
    "\n",
    "Send to my email account: joben.ilagan@gmail.com. \n",
    "Attach the file or create a Dropbox link. \n",
    "The deadline is Tuesday, 18 June 2019, 12:00 nn.\n",
    "\n",
    "You may earn another 2 bonus points for figuring out GitHub and linking me to your repository in your email. (This brings the absolute maximum possible grade for this assignment to 17/10.)"
   ]
  },
  {
   "cell_type": "markdown",
   "metadata": {},
   "source": [
    "# 1\n",
    "### 1 point\n",
    "\n",
    "Write a function that takes the circumference of a circle as a parameter and **returns** the area of that circle."
   ]
  },
  {
   "cell_type": "code",
   "execution_count": 159,
   "metadata": {},
   "outputs": [
    {
     "data": {
      "text/plain": [
       "78.60003184713375"
      ]
     },
     "execution_count": 159,
     "metadata": {},
     "output_type": "execute_result"
    }
   ],
   "source": [
    "# Circumference = 2(3.14)(radius)\n",
    "# Area = (3.14)(radius^2)\n",
    "\n",
    "def circumferenceToArea(circumference):\n",
    "    radius = circumference/2/3.14\n",
    "    area = 3.14*(radius**2)\n",
    "    return area\n",
    "\n",
    "circumferenceToArea(31.42)"
   ]
  },
  {
   "cell_type": "markdown",
   "metadata": {},
   "source": [
    "# 2\n",
    "### 2 points\n",
    "\n",
    "Write a function that takes a 5-character string as a parameter and **returns** the string in reverse order.\n",
    "\n",
    "e.g. reverseString(\"Hello\") -> \"olleH\""
   ]
  },
  {
   "cell_type": "code",
   "execution_count": 49,
   "metadata": {},
   "outputs": [
    {
     "data": {
      "text/plain": [
       "'olleH'"
      ]
     },
     "execution_count": 49,
     "metadata": {},
     "output_type": "execute_result"
    }
   ],
   "source": [
    "# use [] to extract characters\n",
    "# use + to concatenate\n",
    "\n",
    "def fiveCharacterString(words):\n",
    "    first = words[0]\n",
    "    second = words[1]\n",
    "    third = words[2]\n",
    "    fourth = words[3]\n",
    "    fifth = words[4]\n",
    "    return(fifth+fourth+third+second+first)\n",
    "\n",
    "fiveCharacterString(\"Hello\")"
   ]
  },
  {
   "cell_type": "markdown",
   "metadata": {},
   "source": [
    "# 3\n",
    "### 2 points\n",
    "\n",
    "Write a function that takes a positive integer as input and **returns** the sum of all positive integers smaller than and including the number itself.\n",
    "\n",
    "e.g. backAddition(5) -> 1 + 2 + 3 + 4 + 5 -> 15"
   ]
  },
  {
   "cell_type": "code",
   "execution_count": 26,
   "metadata": {},
   "outputs": [
    {
     "name": "stdout",
     "output_type": "stream",
     "text": [
      "15\n"
     ]
    }
   ],
   "source": [
    "def backAddition(integer):\n",
    "    running_total = 0\n",
    "    for i in range(0,integer+1):\n",
    "        running_total += i\n",
    "    return print(running_total)\n",
    "backAddition(5)"
   ]
  },
  {
   "cell_type": "code",
   "execution_count": 27,
   "metadata": {},
   "outputs": [
    {
     "data": {
      "text/plain": [
       "15"
      ]
     },
     "execution_count": 27,
     "metadata": {},
     "output_type": "execute_result"
    }
   ],
   "source": [
    "# Alternative Solution using sum() function\n",
    "def backAddition(integer):\n",
    "    return sum(x for x in range(1,integer+1))\n",
    " \n",
    "backAddition(5)\n",
    "    # manipulate the (\"integer\")\n",
    "    \n",
    "# Notes:\n",
    "    # since x is part of the range of numbers within 1 and the integer, get the summation\n",
    "    # integer+1 because computers start counting from 0"
   ]
  },
  {
   "cell_type": "markdown",
   "metadata": {},
   "source": [
    "# 4\n",
    "### 3 points\n",
    "\n",
    "Write a function that does the following:\n",
    "1. The function iterates through each number from 1 to 100. Print each number.\n",
    "2. If the number is divisible by 3, instead of the number, print \"Fizz\"\n",
    "3. If the number is divisible by 5, instead of the number, print \"Buzz\"\n",
    "4. If the number is divisible by both 3 and 5, instead of the number, print \"FizzBuzz\"\n",
    "\n",
    "e.g.\n",
    "\n",
    "1\n",
    "\n",
    "2\n",
    "\n",
    "Fizz\n",
    "\n",
    "4\n",
    "\n",
    "Buzz\n",
    "\n",
    "Fizz\n",
    "\n",
    "...\n",
    "\n",
    "14\n",
    "\n",
    "FizzBuzz\n",
    "\n",
    "16\n",
    "\n",
    "17\n",
    "\n",
    "..."
   ]
  },
  {
   "cell_type": "code",
   "execution_count": 2,
   "metadata": {},
   "outputs": [
    {
     "name": "stdout",
     "output_type": "stream",
     "text": [
      "1\n",
      "2\n",
      "Fizz\n",
      "4\n",
      "Buzz\n",
      "Fizz\n",
      "7\n",
      "8\n",
      "Fizz\n",
      "Buzz\n",
      "11\n",
      "Fizz\n",
      "13\n",
      "14\n",
      "FizzBuzz\n",
      "16\n",
      "17\n",
      "Fizz\n",
      "19\n",
      "Buzz\n",
      "Fizz\n",
      "22\n",
      "23\n",
      "Fizz\n",
      "Buzz\n",
      "26\n",
      "Fizz\n",
      "28\n",
      "29\n",
      "FizzBuzz\n",
      "31\n",
      "32\n",
      "Fizz\n",
      "34\n",
      "Buzz\n",
      "Fizz\n",
      "37\n",
      "38\n",
      "Fizz\n",
      "Buzz\n",
      "41\n",
      "Fizz\n",
      "43\n",
      "44\n",
      "FizzBuzz\n",
      "46\n",
      "47\n",
      "Fizz\n",
      "49\n",
      "Buzz\n",
      "Fizz\n",
      "52\n",
      "53\n",
      "Fizz\n",
      "Buzz\n",
      "56\n",
      "Fizz\n",
      "58\n",
      "59\n",
      "FizzBuzz\n",
      "61\n",
      "62\n",
      "Fizz\n",
      "64\n",
      "Buzz\n",
      "Fizz\n",
      "67\n",
      "68\n",
      "Fizz\n",
      "Buzz\n",
      "71\n",
      "Fizz\n",
      "73\n",
      "74\n",
      "FizzBuzz\n",
      "76\n",
      "77\n",
      "Fizz\n",
      "79\n",
      "Buzz\n",
      "Fizz\n",
      "82\n",
      "83\n",
      "Fizz\n",
      "Buzz\n",
      "86\n",
      "Fizz\n",
      "88\n",
      "89\n",
      "FizzBuzz\n",
      "91\n",
      "92\n",
      "Fizz\n",
      "94\n",
      "Buzz\n",
      "Fizz\n",
      "97\n",
      "98\n",
      "Fizz\n",
      "Buzz\n"
     ]
    }
   ],
   "source": [
    "for i in range(1,101):\n",
    "    remainder_3 = i%3\n",
    "    remainder_5 = i%5\n",
    "    if (remainder_3 + remainder_5 == 0):\n",
    "        print(\"FizzBuzz\")\n",
    "    elif (remainder_3==0):\n",
    "        print(\"Fizz\")\n",
    "    elif (remainder_5==0):\n",
    "        print(\"Buzz\")\n",
    "    else:\n",
    "        print(i)"
   ]
  },
  {
   "cell_type": "markdown",
   "metadata": {},
   "source": [
    "# 5\n",
    "### 2 points\n",
    "\n",
    "Each new term in the Fibonacci sequence is generated by adding the previous two terms. By starting with 1 and 2, the first 10 terms will be:\n",
    "\n",
    "1, 2, 3, 5, 8, 13, 21, 34, 55, 89, ...\n",
    "\n",
    "By considering the terms in the Fibonacci sequence whose values do not exceed four million, using programming, find the sum of the even-valued terms."
   ]
  },
  {
   "cell_type": "code",
   "execution_count": 123,
   "metadata": {},
   "outputs": [
    {
     "name": "stdout",
     "output_type": "stream",
     "text": [
      "1\n",
      "2\n",
      "3\n",
      "5\n",
      "8\n",
      "13\n",
      "21\n",
      "34\n",
      "55\n",
      "89\n"
     ]
    }
   ],
   "source": [
    "# Step 1: Printing the Fibonacci sequence\n",
    "    # 1     +   2    =   3 \n",
    "    # first + second = third\n",
    "    #           2    +   3    =   5\n",
    "    #          first + second = third\n",
    "\n",
    "first = 0\n",
    "second = 1\n",
    "for i in range(0,10):\n",
    "    third = first + second\n",
    "    first = second\n",
    "    second = third\n",
    "    print(third)"
   ]
  },
  {
   "cell_type": "code",
   "execution_count": 143,
   "metadata": {},
   "outputs": [
    {
     "name": "stdout",
     "output_type": "stream",
     "text": [
      "2\n",
      "8\n",
      "34\n",
      "144\n",
      "610\n",
      "2584\n",
      "10946\n",
      "46368\n",
      "196418\n",
      "832040\n",
      "3524578\n",
      "14930352\n"
     ]
    }
   ],
   "source": [
    "# Step 2: Printing only even values in the Fibonacci sequence\n",
    "first = 0\n",
    "second = 1\n",
    "for i in range(0,35):\n",
    "    third = first + second\n",
    "    first = second\n",
    "    second = third\n",
    "    if (third%2 == 0):\n",
    "        print(third)\n",
    "        \n",
    "# Even Fibonacci number less than 4000000 is less than 35..."
   ]
  },
  {
   "cell_type": "code",
   "execution_count": 145,
   "metadata": {},
   "outputs": [
    {
     "name": "stdout",
     "output_type": "stream",
     "text": [
      "2\n",
      "10\n",
      "44\n",
      "188\n",
      "798\n",
      "3382\n",
      "14328\n",
      "60696\n",
      "257114\n",
      "1089154\n",
      "4613732\n"
     ]
    }
   ],
   "source": [
    "# Step 3: Printing the sum of all even values\n",
    "    #...therefore use 34 for the bound\n",
    "first = 0\n",
    "second = 1\n",
    "total = 0\n",
    "for i in range(0,34):\n",
    "    third = first + second\n",
    "    first = second\n",
    "    second = third\n",
    "    if (third%2 == 0):\n",
    "        total += third\n",
    "        print(total)"
   ]
  },
  {
   "cell_type": "code",
   "execution_count": 153,
   "metadata": {},
   "outputs": [
    {
     "name": "stdout",
     "output_type": "stream",
     "text": [
      "4613732\n"
     ]
    }
   ],
   "source": [
    "# Step 4: Printing the final answer\n",
    "first = 0\n",
    "second = 1\n",
    "total = 0\n",
    "for i in range(0,34):\n",
    "    third = first + second\n",
    "    first = second\n",
    "    second = third\n",
    "    if (third%2 == 0):\n",
    "        total += third\n",
    "print(total)"
   ]
  },
  {
   "cell_type": "code",
   "execution_count": 158,
   "metadata": {},
   "outputs": [
    {
     "name": "stdout",
     "output_type": "stream",
     "text": [
      "4613732\n"
     ]
    }
   ],
   "source": [
    "# Simplified Solution\n",
    "first = 0\n",
    "second = 1\n",
    "total = 0\n",
    "for i in range(0,third):\n",
    "    third = first + second\n",
    "    first = second\n",
    "    second = third\n",
    "    if (third%2 == 0 and third <= 4000000):\n",
    "        total += third\n",
    "print(total)"
   ]
  },
  {
   "cell_type": "markdown",
   "metadata": {},
   "source": [
    "# 6\n",
    "### 5 points (all or nothing)\n",
    "\n",
    "The sum of the squares of the first ten natural numbers is,\n",
    "12 + 22 + ... + 102 = 385\n",
    "\n",
    "The square of the sum of the first ten natural numbers is,\n",
    "(1 + 2 + ... + 10)2 = 552 = 3025\n",
    "\n",
    "Hence the difference between the sum of the squares of the first ten natural numbers and the square of the sum is 3025 − 385 = 2640.\n",
    "\n",
    "Find the difference between the sum of the squares of the first one hundred natural numbers and the square of the sum.\n",
    "\n",
    "Show code that generates the answer."
   ]
  },
  {
   "cell_type": "code",
   "execution_count": 5,
   "metadata": {},
   "outputs": [
    {
     "name": "stdout",
     "output_type": "stream",
     "text": [
      "25164150\n"
     ]
    }
   ],
   "source": [
    "# answer = (sum(i^2))-((sum(i))^2)\n",
    "total_numSquared = 0\n",
    "total_sum = 0\n",
    "total_sumSquared = 0\n",
    "difference = 0\n",
    "for i in range(1,101):\n",
    "    numSquared = i**2\n",
    "    total_numSquared += numSquared\n",
    "    total_sum += i\n",
    "    total_sumSquared = total_sum**2\n",
    "    difference = total_sumSquared - total_numSquared\n",
    "print(difference)\n",
    "\n",
    "# Legend:\n",
    "    # numSquared = numbers squared\n",
    "    # total_numSquared = sum of squares\n",
    "    # total_sum = sum of numbers\n",
    "    # total_sumSquared = square of the sum\n",
    "    # difference = (sum(i^2))-((sum(i))^2)"
   ]
  }
 ],
 "metadata": {
  "kernelspec": {
   "display_name": "Python 3",
   "language": "python",
   "name": "python3"
  },
  "language_info": {
   "codemirror_mode": {
    "name": "ipython",
    "version": 3
   },
   "file_extension": ".py",
   "mimetype": "text/x-python",
   "name": "python",
   "nbconvert_exporter": "python",
   "pygments_lexer": "ipython3",
   "version": "3.7.3"
  }
 },
 "nbformat": 4,
 "nbformat_minor": 2
}
