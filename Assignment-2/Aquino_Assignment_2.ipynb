{
 "cells": [
  {
   "cell_type": "markdown",
   "metadata": {},
   "source": [
    "## CoffeePython POS Terminal"
   ]
  },
  {
   "cell_type": "markdown",
   "metadata": {},
   "source": [
    "CoffeePython is a new specialty coffee place along Katipunan. It commissioned students to build a crude character-mode terminal based on Python.\n",
    "\n",
    "It has the following products:\n",
    "\n",
    "\n",
    "| Code          | Product Name  |  Price |\n",
    "|---------------|---------------|--------|\n",
    "| brewedcoffee  | Brewed Coffee | 120.00 |\n",
    "| espresso      | Espresso      | 140.00 |\n",
    "| americano     | Americano     | 150.00 |\n",
    "| capuccino     | Capuccino     | 170.00 |\n"
   ]
  },
  {
   "cell_type": "markdown",
   "metadata": {},
   "source": [
    "A Python dictionary containing the product information has already been created by someone else:\n",
    "    "
   ]
  },
  {
   "cell_type": "code",
   "execution_count": 2,
   "metadata": {},
   "outputs": [],
   "source": [
    "products = {\n",
    "    \"brewedcoffee\":{\"name\":\"Brewed Coffee\",\"price\":120.00},\n",
    "    \"espresso\":{\"name\":\"Espresso\",\"price\":140.00},\n",
    "    \"americano\":{\"name\":\"Americano\",\"price\":150.00},\n",
    "    \"capuccino\":{\"name\":\"Capuccino\",\"price\":170.00},\n",
    "}"
   ]
  },
  {
   "cell_type": "markdown",
   "metadata": {},
   "source": [
    "### 1. product information lookup function (3 points)\n",
    "\n",
    "Write a function ```get_product(code)``` where code is the key of the product information in the products dictionary. The function should return the dictionary containing the specific product information.\n",
    "For example:\n",
    "\n",
    "\n",
    "**```get_product(\"espresso\")```**\n",
    "\n",
    "should yield\n",
    "\n",
    "**```{\"name\":\"Espresso\",\"price\":140.00}```**\n"
   ]
  },
  {
   "cell_type": "code",
   "execution_count": 3,
   "metadata": {},
   "outputs": [
    {
     "data": {
      "text/plain": [
       "{'name': 'Espresso', 'price': 140.0}"
      ]
     },
     "execution_count": 3,
     "metadata": {},
     "output_type": "execute_result"
    }
   ],
   "source": [
    "def get_product(code):\n",
    "    return(products[code])\n",
    "\n",
    "get_product(\"espresso\")"
   ]
  },
  {
   "cell_type": "markdown",
   "metadata": {},
   "source": [
    "### 2. retrieve product attributes (2 points)\n",
    "a. Write one line of code that calls ```get_product(code)``` and returns the price of that product.\n",
    "\n",
    "**Update:**\n",
    "You may include your one line of code inside a function. The function definition and the return statements are excluded from the count.\n"
   ]
  },
  {
   "cell_type": "code",
   "execution_count": 4,
   "metadata": {},
   "outputs": [
    {
     "data": {
      "text/plain": [
       "140.0"
      ]
     },
     "execution_count": 4,
     "metadata": {},
     "output_type": "execute_result"
    }
   ],
   "source": [
    "def get_product(code):\n",
    "    return(products[code][\"price\"])\n",
    "\n",
    "get_product(\"espresso\")"
   ]
  },
  {
   "cell_type": "markdown",
   "metadata": {},
   "source": [
    "b. Write one line of code that calls ```get_product(code)``` and returns the name of that product.\n",
    "\n",
    "**Update:**\n",
    "You may include your one line of code inside a function. The function definition and the return statements are excluded from the count."
   ]
  },
  {
   "cell_type": "code",
   "execution_count": 5,
   "metadata": {},
   "outputs": [
    {
     "data": {
      "text/plain": [
       "'Espresso'"
      ]
     },
     "execution_count": 5,
     "metadata": {},
     "output_type": "execute_result"
    }
   ],
   "source": [
    "def get_product(code):\n",
    "    return(products[code][\"name\"])\n",
    "\n",
    "get_product(\"espresso\")"
   ]
  },
  {
   "cell_type": "markdown",
   "metadata": {},
   "source": [
    "### 2. Point-of-Sale Terminal  (5 points)\n",
    "\n",
    "Write a function ```main``` that asks for orders of food from a customer. The system should ask for the following:\n",
    "* Product Code (assume that the clerk has memorized the product codes)\n",
    "* Quantity\n",
    "\n",
    "The system then must update an electronic **food tray** (which is just a fancy term for a list of items ordered). Implement the food tray as a list of ordered items, each of which is a *dictionary* containing the following key-value pairs: \n",
    "\n",
    "* product_code, \n",
    "* quantity\n",
    "* subtotal *(which is just the quantity multiplied by the price of the product)*\n",
    "\n",
    "Design your program such that **food_tray** is a variable of the **main** function for now. We will deal with better software design later on. In any case, if any of your functions need to work on the food_tray, pass it as a parameter.\n",
    "\n",
    "The system must compute the subtotal before appending to the food tray.\n",
    "\n",
    "The system must be able to determine if the customer is done with his/her order. Once done, the system notifies the clerk/user of the grand total. \n",
    "\n",
    "The system then prints out the receipt (for now, just show it appear in the notebook), after which it is ready to process the next customer order. Make sure to clear out the food_tray after each successful order.\n",
    "\n",
    "**Bonus (2 points):**\n",
    "Format the receipt output using various print formatting options. You will have to do research on this.\n",
    "\n",
    "**Bonus (2 points):**\n",
    "If the cashier enters an invalid product code, handle the errors gracefully. For one, the system should not bomb out while processing something invalid; rather, it should tell the cashier that he/she entered an invalid product code and to try again.\n",
    "Note that you will have to do research on Error and Exception handling."
   ]
  },
  {
   "cell_type": "code",
   "execution_count": 6,
   "metadata": {},
   "outputs": [],
   "source": [
    "def add_to_tray(food_tray, ordered_item):\n",
    "    food_tray.append(ordered_item)\n",
    "    return food_tray\n"
   ]
  },
  {
   "cell_type": "code",
   "execution_count": 7,
   "metadata": {},
   "outputs": [],
   "source": [
    "def generate_receipt(food_tray):\n",
    "    total = 0\n",
    "    class color:\n",
    "        BOLD = '\\033[1m'\n",
    "        UNDERLINE = '\\033[4m'\n",
    "        END = '\\033[0m'\n",
    "        \n",
    "    print(\"\")\n",
    "    print(color.BOLD + ('{:>32}'.format(\"Coffee Python\") + color.UNDERLINE ) + color.END)\n",
    "    print(\"--------------------------------------------------\")\n",
    "    print(color.BOLD + ('{:<15}{:<15}{:>10}{:>10}'.format(\"Code\",\"Name\",\"Qty\",\"Subtotal\")) + color.END)\n",
    "    \n",
    "    for item in food_tray:\n",
    "        code = item[\"code\"]\n",
    "        name = products[item[\"code\"]][\"name\"]\n",
    "        qty = item[\"qty\"]\n",
    "        subtotal = item[\"subtotal\"]\n",
    "        total += subtotal\n",
    "        print('{:<15}{:<15}{:>10}{:>10}'.format(code,name,qty,subtotal))\n",
    "        pass\n",
    "    \n",
    "    print(\"\")\n",
    "    print(color.BOLD + (\"Total: \"'{:>43}'.format(str(total))) + color.END)\n",
    "    print(\"--------------------------------------------------\")\n",
    "        "
   ]
  },
  {
   "cell_type": "markdown",
   "metadata": {},
   "source": [
    "**Hint:** The ```ordered_item``` dictionary inside ```main()``` has at least three keys: ```code```, ```qty```, and ```subtotal```. You know how to get ```code``` and ```qty``` as these come from variables storing entered values from ```input(\"...\")```. To compute ```subtotal``` you need to get the price of the product (using ```code```) somewhere. Your answer in 2a. will help you.\n",
    "\n",
    "This new ```ordered_item``` dictionary will then need to be added to the ```food_tray``` list in a later step. We can add dictionaries to lists, right? Call the function ```add_to_tray(food_tray, ordered_item)``` to do this.\n",
    "\n",
    "The variable ```food_tray``` is a **list** of **dictionaries**. The ```ordered_item``` variable is a **dictionary**."
   ]
  },
  {
   "cell_type": "code",
   "execution_count": 8,
   "metadata": {},
   "outputs": [],
   "source": [
    "def main():\n",
    "    \n",
    "    class color:\n",
    "        BOLD = '\\033[1m'\n",
    "        UNDERLINE = '\\033[4m'\n",
    "        END = '\\033[0m'\n",
    "    \n",
    "    food_tray = []\n",
    "    command = \"N\"\n",
    "    while(True):\n",
    "        command = input(\"Options: N-New customer, Q-Quit \")\n",
    "        if(command.upper()==\"Q\"):\n",
    "            break\n",
    "        else:\n",
    "            more = \"Y\"\n",
    "            while(more==\"Y\"):\n",
    "                \n",
    "                code = input(\"Enter Product Code: \")\n",
    "                if code not in products:\n",
    "                    print(\"\")\n",
    "                    print(\"Invalid code. Please enter a valid product code.\")\n",
    "                    print(\"\")\n",
    "                    break\n",
    "                    \n",
    "                else:\n",
    "                    try:\n",
    "                        qty = int(input(\"Enter Quantity: \"))\n",
    "                    except:\n",
    "                        print(\"\")\n",
    "                        print(\"Non-numeric value inputted. Please enter a number.\")\n",
    "                        print(\"\")\n",
    "                        break\n",
    "        \n",
    "                    print(code + \": \"+str(qty))\n",
    "               \n",
    "                \n",
    "                    ordered_item = dict({\"code\":code,\"qty\":qty,\"subtotal\":int(qty)*products[code][\"price\"]})                \n",
    "                \n",
    "                add_to_tray(food_tray,ordered_item)\n",
    "\n",
    "                more = input(\"Add more items? (Y/N): \").upper()\n",
    "                \n",
    "        generate_receipt(food_tray)\n",
    "        food_tray = [] # clear out food tray\n",
    "        \n",
    "    print(\"\")\n",
    "    print(color.BOLD + (\"Exiting CoffeePython POS Terminal. Have a great day.\") + color.END)\n",
    "         "
   ]
  },
  {
   "cell_type": "code",
   "execution_count": 9,
   "metadata": {
    "scrolled": true
   },
   "outputs": [
    {
     "name": "stdout",
     "output_type": "stream",
     "text": [
      "Options: N-New customer, Q-Quit n\n",
      "Enter Product Code: espresso\n",
      "Enter Quantity: 5\n",
      "espresso: 5\n",
      "Add more items? (Y/N): y\n",
      "Enter Product Code: capuccino\n",
      "Enter Quantity: 23\n",
      "capuccino: 23\n",
      "Add more items? (Y/N): y\n",
      "Enter Product Code: brewedcoffee\n",
      "Enter Quantity: 45\n",
      "brewedcoffee: 45\n",
      "Add more items? (Y/N): y\n",
      "Enter Product Code: americano\n",
      "Enter Quantity: 67\n",
      "americano: 67\n",
      "Add more items? (Y/N): n\n",
      "\n",
      "\u001b[1m                   Coffee Python\u001b[4m\u001b[0m\n",
      "--------------------------------------------------\n",
      "\u001b[1mCode           Name                  Qty  Subtotal\u001b[0m\n",
      "espresso       Espresso                5     700.0\n",
      "capuccino      Capuccino              23    3910.0\n",
      "brewedcoffee   Brewed Coffee          45    5400.0\n",
      "americano      Americano              67   10050.0\n",
      "\n",
      "\u001b[1mTotal:                                     20060.0\u001b[0m\n",
      "--------------------------------------------------\n",
      "Options: N-New customer, Q-Quit q\n",
      "\n",
      "\u001b[1mExiting CoffeePython POS Terminal. Have a great day.\u001b[0m\n"
     ]
    }
   ],
   "source": [
    "main()\n"
   ]
  },
  {
   "cell_type": "markdown",
   "metadata": {},
   "source": []
  }
 ],
 "metadata": {
  "kernelspec": {
   "display_name": "Python 3",
   "language": "python",
   "name": "python3"
  },
  "language_info": {
   "codemirror_mode": {
    "name": "ipython",
    "version": 3
   },
   "file_extension": ".py",
   "mimetype": "text/x-python",
   "name": "python",
   "nbconvert_exporter": "python",
   "pygments_lexer": "ipython3",
   "version": "3.7.3"
  }
 },
 "nbformat": 4,
 "nbformat_minor": 2
}
